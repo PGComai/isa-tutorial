{
 "cells": [
  {
   "cell_type": "code",
   "execution_count": null,
   "metadata": {},
   "outputs": [],
   "source": [
    "# Coding is like writing but with very specific formatting.\n",
    "# The computer reads your program one line at a time.\n",
    "# Each line consists of one or many logical operations.\n",
    "# You can think of each line of code as one sentence in an essay.\n",
    "# You can create objects, assign and modify their properties, do math, etc.\n",
    "# Nobody knows all of python, or any coding language for that matter.\n",
    "# If you're wondering how to do something, odds are the answer is on stackoverflow\n",
    "# Googling \"python how to ...\" is your best friend"
   ]
  },
  {
   "cell_type": "code",
   "execution_count": null,
   "metadata": {},
   "outputs": [],
   "source": [
    "# this code is gonna return an error, try looking up the error code at the bottom of the readout\n",
    "\n",
    "bees = 500\n",
    "\n",
    "print('help! im being chased by ' + bees + ' bees!')\n",
    "\n",
    "# an error is a sign for you to stop and find what needs to be fixed\n",
    "# make sure you have line numbers enabled (View > Toggle Line Numbers)\n",
    "# the error readout will tell you what went wrong and where\n",
    "# try looking up the error to find a fix"
   ]
  },
  {
   "cell_type": "code",
   "execution_count": null,
   "metadata": {},
   "outputs": [],
   "source": [
    "# python syntax\n",
    "\n",
    "# these both work the same, spaces are optional\n",
    "x = 5\n",
    "x=5"
   ]
  },
  {
   "cell_type": "code",
   "execution_count": null,
   "metadata": {
    "scrolled": true
   },
   "outputs": [],
   "source": [
    "variable = 'a placeholder for whatever you want'\n",
    "\n",
    "print('a variable is ' + variable)"
   ]
  },
  {
   "cell_type": "code",
   "execution_count": null,
   "metadata": {},
   "outputs": [],
   "source": [
    "anotherVariable = 50\n",
    "\n",
    "print('a variable can be a number, like ' + str(anotherVariable))\n",
    "\n",
    "# our 50 is a number (python calls it an integer, or int),\n",
    "# so we converted it to text (string, or str) for the print statement"
   ]
  },
  {
   "cell_type": "code",
   "execution_count": null,
   "metadata": {},
   "outputs": [],
   "source": [
    "# instead of a string or an integer, let's make a list\n",
    "\n",
    "# square brackets with items separated by commas is a list\n",
    "\n",
    "# you can access a specific item in a list with its index\n",
    "\n",
    "# index:   0         1          2\n",
    "birds = ['crow', 'turkey', 'ostrich']\n",
    "\n",
    "print(birds[1])\n"
   ]
  },
  {
   "cell_type": "code",
   "execution_count": null,
   "metadata": {},
   "outputs": [],
   "source": [
    "# you can add stuff together as long as theyre the same type of thing\n",
    "\n",
    "newBird = birds[2] + birds[1]\n",
    "\n",
    "print('look at my creation, i call it: ' + newBird)"
   ]
  },
  {
   "cell_type": "code",
   "execution_count": null,
   "metadata": {},
   "outputs": [],
   "source": [
    "# lists aren't the only things with indices; strings also have them\n",
    "\n",
    "print(newBird[3])"
   ]
  },
  {
   "cell_type": "code",
   "execution_count": null,
   "metadata": {},
   "outputs": [],
   "source": [
    "# dictionaries\n",
    "\n",
    "\n",
    "#            key  : value\n",
    "weather = {'sunday': 81,\n",
    "          'monday': 76,\n",
    "          'tuesday': 83}\n",
    "\n",
    "weather['sunday']\n",
    "# search the key, return the value (values can be any type of variable)"
   ]
  },
  {
   "cell_type": "code",
   "execution_count": null,
   "metadata": {},
   "outputs": [],
   "source": [
    "# notice how any time we want to find something within something else, we use [square brackets]\n",
    "\n",
    "# if a variable has an index or another 'searchable' attribute then we can probably use variable[...]"
   ]
  },
  {
   "cell_type": "code",
   "execution_count": null,
   "metadata": {},
   "outputs": [],
   "source": [
    "tunnel = 'looooooooooooooong'\n",
    "\n",
    "for letter in tunnel:\n",
    "    print(letter)\n",
    "    \n",
    "# this is a for loop, it's very handy\n",
    "# 'letter' is arbitrary, it is the name of the current element in the sequence,\n",
    "# and it can be called anything as long as it is consistent"
   ]
  },
  {
   "cell_type": "code",
   "execution_count": null,
   "metadata": {},
   "outputs": [],
   "source": [
    "# for loops iterate through something until they reach the end,\n",
    "# in this case we iterate through each character in the string\n",
    "\n",
    "#    'one'    'many'\n",
    "for letter in tunnel:\n",
    "    if letter == 'o':\n",
    "        print(letter)\n",
    "    else:\n",
    "        print('not o')\n",
    "        \n",
    "# if statements will only execute the code within them if a certain condition is met, like letter == 'o'\n",
    "\n",
    "# '==' is used when checking the value of something, while '=' is used to set values"
   ]
  },
  {
   "cell_type": "code",
   "execution_count": null,
   "metadata": {},
   "outputs": [],
   "source": [
    "# next is a while loop\n",
    "\n",
    "count = 0\n",
    "\n",
    "while count < 20:\n",
    "    print(count)\n",
    "    count += 1\n",
    "    \n",
    "# while a condition is true, the loop iterates\n",
    "    \n",
    "# '+=' adds to a variable (usually numbers but maybe it works with strings, idk)\n",
    "# '-=' does the same with subtraction\n",
    "\n",
    "\n",
    "#     ==                    <=                           >=                         !=\n",
    "\n",
    "# is equal to     is less than or equal to     is greater than or equal to     is not equal to"
   ]
  },
  {
   "cell_type": "code",
   "execution_count": null,
   "metadata": {},
   "outputs": [],
   "source": [
    "# python math\n",
    "\n",
    "# add\n",
    "print(2 + 3)\n",
    "# subtract\n",
    "print(2 - 3)\n",
    "# multiply\n",
    "print(2 * 3)\n",
    "# divide\n",
    "print(2 / 3)\n",
    "# exponent\n",
    "print(2 ** 3)"
   ]
  },
  {
   "cell_type": "code",
   "execution_count": null,
   "metadata": {},
   "outputs": [],
   "source": [
    "# importing modules\n",
    "\n",
    "import random\n",
    "\n",
    "esos = ['reeboks', 'nikes']\n",
    "\n",
    "print('esos son ' + random.choice(esos))\n",
    "\n",
    "# we import the random module (one of many build into python) and call the choice method\n",
    "\n",
    "# module.method(argument) is usually how the format goes\n",
    "\n",
    "# modules are collections of pre-written functions called methods\n",
    "\n",
    "# a google search for 'python random documentation' gives us:\n",
    "# https://docs.python.org/3/library/random.html"
   ]
  },
  {
   "cell_type": "code",
   "execution_count": null,
   "metadata": {},
   "outputs": [],
   "source": [
    "# the documentation is the most extensive and exhaustive resource for learning about modules and python,\n",
    "# if you can't solve a problem with answers from stackoverflow then the documentation is the way to go"
   ]
  },
  {
   "cell_type": "code",
   "execution_count": null,
   "metadata": {},
   "outputs": [],
   "source": [
    "# booleans\n",
    "\n",
    "x = True\n",
    "\n",
    "if x:\n",
    "    print('truth')\n",
    "if not x:\n",
    "    print('falsehood')\n",
    "\n",
    "# try changing x to False"
   ]
  },
  {
   "cell_type": "code",
   "execution_count": null,
   "metadata": {},
   "outputs": [],
   "source": []
  }
 ],
 "metadata": {
  "kernelspec": {
   "display_name": "Python 3",
   "language": "python",
   "name": "python3"
  },
  "language_info": {
   "codemirror_mode": {
    "name": "ipython",
    "version": 3
   },
   "file_extension": ".py",
   "mimetype": "text/x-python",
   "name": "python",
   "nbconvert_exporter": "python",
   "pygments_lexer": "ipython3",
   "version": "3.7.6"
  }
 },
 "nbformat": 4,
 "nbformat_minor": 4
}
