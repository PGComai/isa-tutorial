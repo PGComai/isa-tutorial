{
 "cells": [
  {
   "cell_type": "code",
   "execution_count": null,
   "metadata": {},
   "outputs": [],
   "source": [
    "# what can you do with coding?\n",
    "\n",
    "x = 0\n",
    "y = 0\n",
    "\n",
    "# if you think of x and y as objects that can move along the number line,\n",
    "# you effectively make the first step toward building some kind of game"
   ]
  },
  {
   "cell_type": "code",
   "execution_count": null,
   "metadata": {},
   "outputs": [],
   "source": [
    "# let's write some code that will let us move around an imaginary world\n",
    "\n",
    "# a great way to organize code is by breaking things up into functions\n",
    "# in this case, we can write a function for basic movement\n",
    "\n",
    "# start by defining the function and its arguments\n",
    "\n",
    "def walk(x, y, direction):\n",
    "    # code within this function will run every time the function is called\n",
    "    # our arguments are the variables x and y, and a new one called direction\n",
    "    # this means that the function will accept those three inputs\n",
    "    # lets say direction can be one of four; up, down, left, right\n",
    "    \n",
    "    if direction == 'up':\n",
    "        # in this case, our imaginary character moves one number higher in the y direction\n",
    "        y += 1\n",
    "    # and then we repeat for the other directions\n",
    "    elif direction == 'down':\n",
    "        y -= 1\n",
    "    elif direction == 'left':\n",
    "        x -= 1\n",
    "    elif direction == 'right':\n",
    "        x += 1\n",
    "    \n",
    "    # all of the math has been done, now lets print our new location\n",
    "    \n",
    "    print('new location: ' + str(x) + ', ' + str(y))\n",
    "    \n",
    "    \n",
    "    \n",
    "# and now we have a function for walking!"
   ]
  },
  {
   "cell_type": "code",
   "execution_count": null,
   "metadata": {},
   "outputs": [],
   "source": [
    "# lets test it out\n",
    "\n",
    "walk(x, y, 'up')"
   ]
  },
  {
   "cell_type": "code",
   "execution_count": null,
   "metadata": {},
   "outputs": [],
   "source": [
    "# it works! although you may notice that if we run the function a second time,\n",
    "# we end up at the same location. This is because what happens in a function,\n",
    "# stays in a function, unless you specify otherwise.\n",
    "\n",
    "# to do that, add a new line at the end of the function: return x, y\n",
    "# now, the function becomes a proper input --> output machine\n",
    "\n",
    "# finish it up by setting x and y equal to their new values\n",
    "# add this before the function when we call it, on the same line: x, y =\n",
    "# the function call should look like: x, y = walk(x, y, 'up')\n",
    "\n",
    "# now try walking around"
   ]
  }
 ],
 "metadata": {
  "kernelspec": {
   "display_name": "Python 3",
   "language": "python",
   "name": "python3"
  },
  "language_info": {
   "codemirror_mode": {
    "name": "ipython",
    "version": 3
   },
   "file_extension": ".py",
   "mimetype": "text/x-python",
   "name": "python",
   "nbconvert_exporter": "python",
   "pygments_lexer": "ipython3",
   "version": "3.7.6"
  }
 },
 "nbformat": 4,
 "nbformat_minor": 4
}
